{
 "cells": [
  {
   "cell_type": "code",
   "execution_count": 1,
   "metadata": {},
   "outputs": [
    {
     "name": "stderr",
     "output_type": "stream",
     "text": [
      "C:\\Users\\Ghazy\\anaconda3\\lib\\site-packages\\fuzzywuzzy\\fuzz.py:11: UserWarning: Using slow pure-python SequenceMatcher. Install python-Levenshtein to remove this warning\n",
      "  warnings.warn('Using slow pure-python SequenceMatcher. Install python-Levenshtein to remove this warning')\n"
     ]
    }
   ],
   "source": [
    "import pandas as pd\n",
    "import numpy as np\n",
    "import seaborn as sns\n",
    "from matplotlib import pyplot as plt\n",
    "from fuzzywuzzy import fuzz\n",
    "from fuzzywuzzy import process"
   ]
  },
  {
   "cell_type": "code",
   "execution_count": 2,
   "metadata": {
    "scrolled": false
   },
   "outputs": [
    {
     "data": {
      "text/html": [
       "<div>\n",
       "<style scoped>\n",
       "    .dataframe tbody tr th:only-of-type {\n",
       "        vertical-align: middle;\n",
       "    }\n",
       "\n",
       "    .dataframe tbody tr th {\n",
       "        vertical-align: top;\n",
       "    }\n",
       "\n",
       "    .dataframe thead th {\n",
       "        text-align: right;\n",
       "    }\n",
       "</style>\n",
       "<table border=\"1\" class=\"dataframe\">\n",
       "  <thead>\n",
       "    <tr style=\"text-align: right;\">\n",
       "      <th></th>\n",
       "      <th>Internal ID</th>\n",
       "      <th>Q1: GOING OUT?</th>\n",
       "      <th>Q2: GENDER</th>\n",
       "      <th>Q3: AGE</th>\n",
       "      <th>Q4: COUNTRY</th>\n",
       "      <th>Q5: STATE, PROVINCE, COUNTY, ETC</th>\n",
       "      <th>Q6 | 100 Grand Bar</th>\n",
       "      <th>Q6 | Anonymous brown globs that come in black and orange wrappers\\t(a.k.a. Mary Janes)</th>\n",
       "      <th>Q6 | Any full-sized candy bar</th>\n",
       "      <th>Q6 | Black Jacks</th>\n",
       "      <th>...</th>\n",
       "      <th>Q8: DESPAIR OTHER</th>\n",
       "      <th>Q9: OTHER COMMENTS</th>\n",
       "      <th>Q10: DRESS</th>\n",
       "      <th>Unnamed: 113</th>\n",
       "      <th>Q11: DAY</th>\n",
       "      <th>Q12: MEDIA [Daily Dish]</th>\n",
       "      <th>Q12: MEDIA [Science]</th>\n",
       "      <th>Q12: MEDIA [ESPN]</th>\n",
       "      <th>Q12: MEDIA [Yahoo]</th>\n",
       "      <th>Click Coordinates (x, y)</th>\n",
       "    </tr>\n",
       "  </thead>\n",
       "  <tbody>\n",
       "    <tr>\n",
       "      <th>0</th>\n",
       "      <td>90258773</td>\n",
       "      <td>NaN</td>\n",
       "      <td>NaN</td>\n",
       "      <td>NaN</td>\n",
       "      <td>NaN</td>\n",
       "      <td>NaN</td>\n",
       "      <td>NaN</td>\n",
       "      <td>NaN</td>\n",
       "      <td>NaN</td>\n",
       "      <td>NaN</td>\n",
       "      <td>...</td>\n",
       "      <td>NaN</td>\n",
       "      <td>NaN</td>\n",
       "      <td>NaN</td>\n",
       "      <td>NaN</td>\n",
       "      <td>NaN</td>\n",
       "      <td>NaN</td>\n",
       "      <td>NaN</td>\n",
       "      <td>NaN</td>\n",
       "      <td>NaN</td>\n",
       "      <td>NaN</td>\n",
       "    </tr>\n",
       "    <tr>\n",
       "      <th>1</th>\n",
       "      <td>90272821</td>\n",
       "      <td>No</td>\n",
       "      <td>Male</td>\n",
       "      <td>44</td>\n",
       "      <td>USA</td>\n",
       "      <td>NM</td>\n",
       "      <td>MEH</td>\n",
       "      <td>DESPAIR</td>\n",
       "      <td>JOY</td>\n",
       "      <td>MEH</td>\n",
       "      <td>...</td>\n",
       "      <td>NaN</td>\n",
       "      <td>Bottom line is Twix is really the only candy w...</td>\n",
       "      <td>White and gold</td>\n",
       "      <td>NaN</td>\n",
       "      <td>Sunday</td>\n",
       "      <td>NaN</td>\n",
       "      <td>1.0</td>\n",
       "      <td>NaN</td>\n",
       "      <td>NaN</td>\n",
       "      <td>(84, 25)</td>\n",
       "    </tr>\n",
       "    <tr>\n",
       "      <th>2</th>\n",
       "      <td>90272829</td>\n",
       "      <td>NaN</td>\n",
       "      <td>Male</td>\n",
       "      <td>49</td>\n",
       "      <td>USA</td>\n",
       "      <td>Virginia</td>\n",
       "      <td>NaN</td>\n",
       "      <td>NaN</td>\n",
       "      <td>NaN</td>\n",
       "      <td>NaN</td>\n",
       "      <td>...</td>\n",
       "      <td>NaN</td>\n",
       "      <td>NaN</td>\n",
       "      <td>NaN</td>\n",
       "      <td>NaN</td>\n",
       "      <td>NaN</td>\n",
       "      <td>NaN</td>\n",
       "      <td>NaN</td>\n",
       "      <td>NaN</td>\n",
       "      <td>NaN</td>\n",
       "      <td>NaN</td>\n",
       "    </tr>\n",
       "    <tr>\n",
       "      <th>3</th>\n",
       "      <td>90272840</td>\n",
       "      <td>No</td>\n",
       "      <td>Male</td>\n",
       "      <td>40</td>\n",
       "      <td>us</td>\n",
       "      <td>or</td>\n",
       "      <td>MEH</td>\n",
       "      <td>DESPAIR</td>\n",
       "      <td>JOY</td>\n",
       "      <td>MEH</td>\n",
       "      <td>...</td>\n",
       "      <td>NaN</td>\n",
       "      <td>Raisins can go to hell</td>\n",
       "      <td>White and gold</td>\n",
       "      <td>NaN</td>\n",
       "      <td>Sunday</td>\n",
       "      <td>NaN</td>\n",
       "      <td>1.0</td>\n",
       "      <td>NaN</td>\n",
       "      <td>NaN</td>\n",
       "      <td>(75, 23)</td>\n",
       "    </tr>\n",
       "    <tr>\n",
       "      <th>4</th>\n",
       "      <td>90272841</td>\n",
       "      <td>No</td>\n",
       "      <td>Male</td>\n",
       "      <td>23</td>\n",
       "      <td>usa</td>\n",
       "      <td>exton pa</td>\n",
       "      <td>JOY</td>\n",
       "      <td>DESPAIR</td>\n",
       "      <td>JOY</td>\n",
       "      <td>DESPAIR</td>\n",
       "      <td>...</td>\n",
       "      <td>NaN</td>\n",
       "      <td>NaN</td>\n",
       "      <td>White and gold</td>\n",
       "      <td>NaN</td>\n",
       "      <td>Friday</td>\n",
       "      <td>NaN</td>\n",
       "      <td>1.0</td>\n",
       "      <td>NaN</td>\n",
       "      <td>NaN</td>\n",
       "      <td>(70, 10)</td>\n",
       "    </tr>\n",
       "  </tbody>\n",
       "</table>\n",
       "<p>5 rows × 120 columns</p>\n",
       "</div>"
      ],
      "text/plain": [
       "   Internal ID Q1: GOING OUT? Q2: GENDER Q3: AGE Q4: COUNTRY  \\\n",
       "0     90258773            NaN        NaN     NaN         NaN   \n",
       "1     90272821             No       Male      44        USA    \n",
       "2     90272829            NaN       Male      49         USA   \n",
       "3     90272840             No       Male      40          us   \n",
       "4     90272841             No       Male      23         usa   \n",
       "\n",
       "  Q5: STATE, PROVINCE, COUNTY, ETC Q6 | 100 Grand Bar  \\\n",
       "0                              NaN                NaN   \n",
       "1                               NM                MEH   \n",
       "2                         Virginia                NaN   \n",
       "3                               or                MEH   \n",
       "4                         exton pa                JOY   \n",
       "\n",
       "  Q6 | Anonymous brown globs that come in black and orange wrappers\\t(a.k.a. Mary Janes)  \\\n",
       "0                                                NaN                                       \n",
       "1                                            DESPAIR                                       \n",
       "2                                                NaN                                       \n",
       "3                                            DESPAIR                                       \n",
       "4                                            DESPAIR                                       \n",
       "\n",
       "  Q6 | Any full-sized candy bar Q6 | Black Jacks  ... Q8: DESPAIR OTHER  \\\n",
       "0                           NaN              NaN  ...               NaN   \n",
       "1                           JOY              MEH  ...               NaN   \n",
       "2                           NaN              NaN  ...               NaN   \n",
       "3                           JOY              MEH  ...               NaN   \n",
       "4                           JOY          DESPAIR  ...               NaN   \n",
       "\n",
       "                                  Q9: OTHER COMMENTS      Q10: DRESS  \\\n",
       "0                                                NaN             NaN   \n",
       "1  Bottom line is Twix is really the only candy w...  White and gold   \n",
       "2                                                NaN             NaN   \n",
       "3                             Raisins can go to hell  White and gold   \n",
       "4                                                NaN  White and gold   \n",
       "\n",
       "  Unnamed: 113 Q11: DAY Q12: MEDIA [Daily Dish] Q12: MEDIA [Science]  \\\n",
       "0          NaN      NaN                     NaN                  NaN   \n",
       "1          NaN   Sunday                     NaN                  1.0   \n",
       "2          NaN      NaN                     NaN                  NaN   \n",
       "3          NaN   Sunday                     NaN                  1.0   \n",
       "4          NaN   Friday                     NaN                  1.0   \n",
       "\n",
       "  Q12: MEDIA [ESPN] Q12: MEDIA [Yahoo] Click Coordinates (x, y)  \n",
       "0               NaN                NaN                      NaN  \n",
       "1               NaN                NaN                 (84, 25)  \n",
       "2               NaN                NaN                      NaN  \n",
       "3               NaN                NaN                 (75, 23)  \n",
       "4               NaN                NaN                 (70, 10)  \n",
       "\n",
       "[5 rows x 120 columns]"
      ]
     },
     "execution_count": 2,
     "metadata": {},
     "output_type": "execute_result"
    }
   ],
   "source": [
    "data = pd.read_csv(r'E:\\Self study\\Data\\candyhierarchy2017.csv' , encoding='latin-1') \n",
    "pd.set_option('display.max_rows',None)\n",
    "data.head()"
   ]
  },
  {
   "cell_type": "code",
   "execution_count": 3,
   "metadata": {
    "scrolled": false
   },
   "outputs": [
    {
     "name": "stdout",
     "output_type": "stream",
     "text": [
      "<class 'pandas.core.frame.DataFrame'>\n",
      "RangeIndex: 2460 entries, 0 to 2459\n",
      "Data columns (total 120 columns):\n",
      " #   Column                                                                                 Non-Null Count  Dtype  \n",
      "---  ------                                                                                 --------------  -----  \n",
      " 0   Internal ID                                                                            2460 non-null   int64  \n",
      " 1   Q1: GOING OUT?                                                                         2350 non-null   object \n",
      " 2   Q2: GENDER                                                                             2419 non-null   object \n",
      " 3   Q3: AGE                                                                                2376 non-null   object \n",
      " 4   Q4: COUNTRY                                                                            2396 non-null   object \n",
      " 5   Q5: STATE, PROVINCE, COUNTY, ETC                                                       2360 non-null   object \n",
      " 6   Q6 | 100 Grand Bar                                                                     1713 non-null   object \n",
      " 7   Q6 | Anonymous brown globs that come in black and orange wrappers\t(a.k.a. Mary Janes)  1726 non-null   object \n",
      " 8   Q6 | Any full-sized candy bar                                                          1788 non-null   object \n",
      " 9   Q6 | Black Jacks                                                                       1502 non-null   object \n",
      " 10  Q6 | Bonkers (the candy)                                                               1468 non-null   object \n",
      " 11  Q6 | Bonkers (the board game)                                                          1454 non-null   object \n",
      " 12  Q6 | Bottle Caps                                                                       1695 non-null   object \n",
      " 13  Q6 | Box'o'Raisins                                                                     1772 non-null   object \n",
      " 14  Q6 | Broken glow stick                                                                 1754 non-null   object \n",
      " 15  Q6 | Butterfinger                                                                      1778 non-null   object \n",
      " 16  Q6 | Cadbury Creme Eggs                                                                1777 non-null   object \n",
      " 17  Q6 | Candy Corn                                                                        1782 non-null   object \n",
      " 18  Q6 | Candy that is clearly just the stuff given out for free at restaurants            1769 non-null   object \n",
      " 19  Q6 | Caramellos                                                                        1708 non-null   object \n",
      " 20  Q6 | Cash, or other forms of legal tender                                              1780 non-null   object \n",
      " 21  Q6 | Chardonnay                                                                        1717 non-null   object \n",
      " 22  Q6 | Chick-o-Sticks (we donÕt know what that is)                                       1514 non-null   object \n",
      " 23  Q6 | Chiclets                                                                          1749 non-null   object \n",
      " 24  Q6 | Coffee Crisp                                                                      1607 non-null   object \n",
      " 25  Q6 | Creepy Religious comics/Chick Tracts                                              1756 non-null   object \n",
      " 26  Q6 | Dental paraphenalia                                                               1768 non-null   object \n",
      " 27  Q6 | Dots                                                                              1731 non-null   object \n",
      " 28  Q6 | Dove Bars                                                                         1758 non-null   object \n",
      " 29  Q6 | Fuzzy Peaches                                                                     1637 non-null   object \n",
      " 30  Q6 | Generic Brand Acetaminophen                                                       1729 non-null   object \n",
      " 31  Q6 | Glow sticks                                                                       1763 non-null   object \n",
      " 32  Q6 | Goo Goo Clusters                                                                  1581 non-null   object \n",
      " 33  Q6 | Good N' Plenty                                                                    1726 non-null   object \n",
      " 34  Q6 | Gum from baseball cards                                                           1744 non-null   object \n",
      " 35  Q6 | Gummy Bears straight up                                                           1763 non-null   object \n",
      " 36  Q6 | Hard Candy                                                                        1765 non-null   object \n",
      " 37  Q6 | Healthy Fruit                                                                     1766 non-null   object \n",
      " 38  Q6 | Heath Bar                                                                         1748 non-null   object \n",
      " 39  Q6 | Hershey's Dark Chocolate                                                          1787 non-null   object \n",
      " 40  Q6 | HersheyÕs Milk Chocolate                                                          1788 non-null   object \n",
      " 41  Q6 | Hershey's Kisses                                                                  1782 non-null   object \n",
      " 42  Q6 | Hugs (actual physical hugs)                                                       1747 non-null   object \n",
      " 43  Q6 | Jolly Rancher (bad flavor)                                                        1766 non-null   object \n",
      " 44  Q6 | Jolly Ranchers (good flavor)                                                      1765 non-null   object \n",
      " 45  Q6 | JoyJoy (Mit Iodine!)                                                              1434 non-null   object \n",
      " 46  Q6 | Junior Mints                                                                      1762 non-null   object \n",
      " 47  Q6 | Senior Mints                                                                      1518 non-null   object \n",
      " 48  Q6 | Kale smoothie                                                                     1716 non-null   object \n",
      " 49  Q6 | Kinder Happy Hippo                                                                1515 non-null   object \n",
      " 50  Q6 | Kit Kat                                                                           1786 non-null   object \n",
      " 51  Q6 | LaffyTaffy                                                                        1724 non-null   object \n",
      " 52  Q6 | LemonHeads                                                                        1730 non-null   object \n",
      " 53  Q6 | Licorice (not black)                                                              1774 non-null   object \n",
      " 54  Q6 | Licorice (yes black)                                                              1775 non-null   object \n",
      " 55  Q6 | Lindt Truffle                                                                     1742 non-null   object \n",
      " 56  Q6 | Lollipops                                                                         1769 non-null   object \n",
      " 57  Q6 | Mars                                                                              1735 non-null   object \n",
      " 58  Q6 | Maynards                                                                          1436 non-null   object \n",
      " 59  Q6 | Mike and Ike                                                                      1731 non-null   object \n",
      " 60  Q6 | Milk Duds                                                                         1767 non-null   object \n",
      " 61  Q6 | Milky Way                                                                         1772 non-null   object \n",
      " 62  Q6 | Regular M&Ms                                                                      1785 non-null   object \n",
      " 63  Q6 | Peanut M&MÕs                                                                      1789 non-null   object \n",
      " 64  Q6 | Blue M&M's                                                                        1733 non-null   object \n",
      " 65  Q6 | Red M&M's                                                                         1731 non-null   object \n",
      " 66  Q6 | Green Party M&M's                                                                 1696 non-null   object \n",
      " 67  Q6 | Independent M&M's                                                                 1647 non-null   object \n",
      " 68  Q6 | Abstained from M&M'ing.                                                           1518 non-null   object \n",
      " 69  Q6 | Minibags of chips                                                                 1736 non-null   object \n",
      " 70  Q6 | Mint Kisses                                                                       1684 non-null   object \n",
      " 71  Q6 | Mint Juleps                                                                       1649 non-null   object \n",
      " 72  Q6 | Mr. Goodbar                                                                       1720 non-null   object \n",
      " 73  Q6 | Necco Wafers                                                                      1716 non-null   object \n",
      " 74  Q6 | Nerds                                                                             1737 non-null   object \n",
      " 75  Q6 | Nestle Crunch                                                                     1762 non-null   object \n",
      " 76  Q6 | Now'n'Laters                                                                      1643 non-null   object \n",
      " 77  Q6 | Peeps                                                                             1750 non-null   object \n",
      " 78  Q6 | Pencils                                                                           1751 non-null   object \n",
      " 79  Q6 | Pixy Stix                                                                         1738 non-null   object \n",
      " 80  Q6 | Real Housewives of Orange County Season 9 Blue-Ray                                1707 non-null   object \n",
      " 81  Q6 | ReeseÕs Peanut Butter Cups                                                        1781 non-null   object \n",
      " 82  Q6 | Reese's Pieces                                                                    1769 non-null   object \n",
      " 83  Q6 | Reggie Jackson Bar                                                                1446 non-null   object \n",
      " 84  Q6 | Rolos                                                                             1746 non-null   object \n",
      " 85  Q6 | Sandwich-sized bags filled with BooBerry Crunch                                   1684 non-null   object \n",
      " 86  Q6 | Skittles                                                                          1754 non-null   object \n",
      " 87  Q6 | Smarties (American)                                                               1735 non-null   object \n",
      " 88  Q6 | Smarties (Commonwealth)                                                           1559 non-null   object \n",
      " 89  Q6 | Snickers                                                                          1770 non-null   object \n",
      " 90  Q6 | Sourpatch Kids (i.e. abominations of nature)                                      1722 non-null   object \n",
      " 91  Q6 | Spotted Dick                                                                      1578 non-null   object \n",
      " 92  Q6 | Starburst                                                                         1767 non-null   object \n",
      " 93  Q6 | Sweet Tarts                                                                       1752 non-null   object \n",
      " 94  Q6 | Swedish Fish                                                                      1745 non-null   object \n",
      " 95  Q6 | Sweetums (a friend to diabetes)                                                   1458 non-null   object \n",
      " 96  Q6 | Take 5                                                                            1543 non-null   object \n",
      " 97  Q6 | Tic Tacs                                                                          1746 non-null   object \n",
      " 98  Q6 | Those odd marshmallow circus peanut things                                        1724 non-null   object \n",
      " 99  Q6 | Three Musketeers                                                                  1752 non-null   object \n",
      " 100 Q6 | Tolberone something or other                                                      1754 non-null   object \n",
      " 101 Q6 | Trail Mix                                                                         1752 non-null   object \n",
      " 102 Q6 | Twix                                                                              1770 non-null   object \n",
      " 103 Q6 | Vials of pure high fructose corn syrup, for main-lining into your vein            1668 non-null   object \n",
      " 104 Q6 | Vicodin                                                                           1671 non-null   object \n",
      " 105 Q6 | Whatchamacallit Bars                                                              1637 non-null   object \n",
      " 106 Q6 | White Bread                                                                       1703 non-null   object \n",
      " 107 Q6 | Whole Wheat anything                                                              1713 non-null   object \n",
      " 108 Q6 | York Peppermint Patties                                                           1755 non-null   object \n",
      " 109 Q7: JOY OTHER                                                                          911 non-null    object \n",
      " 110 Q8: DESPAIR OTHER                                                                      717 non-null    object \n",
      " 111 Q9: OTHER COMMENTS                                                                     386 non-null    object \n",
      " 112 Q10: DRESS                                                                             1716 non-null   object \n",
      " 113 Unnamed: 113                                                                           9 non-null      object \n",
      " 114 Q11: DAY                                                                               1735 non-null   object \n",
      " 115 Q12: MEDIA [Daily Dish]                                                                85 non-null     float64\n",
      " 116 Q12: MEDIA [Science]                                                                   1362 non-null   float64\n",
      " 117 Q12: MEDIA [ESPN]                                                                      99 non-null     float64\n",
      " 118 Q12: MEDIA [Yahoo]                                                                     67 non-null     float64\n",
      " 119 Click Coordinates (x, y)                                                               1605 non-null   object \n",
      "dtypes: float64(4), int64(1), object(115)\n",
      "memory usage: 2.3+ MB\n"
     ]
    }
   ],
   "source": [
    "data.info(verbose= True  , null_counts =  True)"
   ]
  },
  {
   "cell_type": "code",
   "execution_count": 4,
   "metadata": {},
   "outputs": [
    {
     "data": {
      "text/plain": [
       "Q8: DESPAIR OTHER           1743\n",
       "Q9: OTHER COMMENTS          2074\n",
       "Q10: DRESS                   744\n",
       "Unnamed: 113                2451\n",
       "Q11: DAY                     725\n",
       "Q12: MEDIA [Daily Dish]     2375\n",
       "Q12: MEDIA [Science]        1098\n",
       "Q12: MEDIA [ESPN]           2361\n",
       "Q12: MEDIA [Yahoo]          2393\n",
       "Click Coordinates (x, y)     855\n",
       "dtype: int64"
      ]
     },
     "execution_count": 4,
     "metadata": {},
     "output_type": "execute_result"
    }
   ],
   "source": [
    "data.isna().sum().tail(10)"
   ]
  },
  {
   "cell_type": "code",
   "execution_count": 5,
   "metadata": {},
   "outputs": [],
   "source": [
    "col_drops = {\"Internal ID\" , \"Click Coordinates (x, y)\",\"Q12: MEDIA [ESPN]\",\"Q12: MEDIA [Daily Dish]\",\"Unnamed: 113\",\"Q9: OTHER COMMENTS\" , \"Q8: DESPAIR OTHER\",\"Q7: JOY OTHER\" , \"Q12: MEDIA [Yahoo]\"}\n",
    "for x in col_drops :\n",
    "    data.drop(x , axis = 1 , inplace = True)"
   ]
  },
  {
   "cell_type": "markdown",
   "metadata": {},
   "source": [
    "# GOING OUT"
   ]
  },
  {
   "cell_type": "code",
   "execution_count": 6,
   "metadata": {},
   "outputs": [
    {
     "data": {
      "text/plain": [
       "No     2038\n",
       "Yes     312\n",
       "Name: Q1: GOING OUT?, dtype: int64"
      ]
     },
     "execution_count": 6,
     "metadata": {},
     "output_type": "execute_result"
    }
   ],
   "source": [
    "data[\"Q1: GOING OUT?\"].value_counts()"
   ]
  },
  {
   "cell_type": "code",
   "execution_count": 7,
   "metadata": {},
   "outputs": [
    {
     "data": {
      "text/plain": [
       "110"
      ]
     },
     "execution_count": 7,
     "metadata": {},
     "output_type": "execute_result"
    }
   ],
   "source": [
    "data[\"Q1: GOING OUT?\"].isna().sum()"
   ]
  },
  {
   "cell_type": "code",
   "execution_count": 8,
   "metadata": {},
   "outputs": [
    {
     "data": {
      "text/plain": [
       "No     2148\n",
       "Yes     312\n",
       "Name: Q1: GOING OUT?, dtype: int64"
      ]
     },
     "execution_count": 8,
     "metadata": {},
     "output_type": "execute_result"
    }
   ],
   "source": [
    "going_out_mode = data[\"Q1: GOING OUT?\"].mode()[0]\n",
    "data[\"Q1: GOING OUT?\"].fillna(going_out_mode , inplace = True)\n",
    "data[\"Q1: GOING OUT?\"].value_counts()"
   ]
  },
  {
   "cell_type": "markdown",
   "metadata": {},
   "source": [
    "# GENDER "
   ]
  },
  {
   "cell_type": "code",
   "execution_count": 9,
   "metadata": {},
   "outputs": [
    {
     "data": {
      "text/plain": [
       "Male                  1467\n",
       "Female                 839\n",
       "I'd rather not say      83\n",
       "Other                   30\n",
       "Name: Q2: GENDER, dtype: int64"
      ]
     },
     "execution_count": 9,
     "metadata": {},
     "output_type": "execute_result"
    }
   ],
   "source": [
    "data[\"Q2: GENDER\"].value_counts()"
   ]
  },
  {
   "cell_type": "code",
   "execution_count": 10,
   "metadata": {},
   "outputs": [
    {
     "data": {
      "text/plain": [
       "41"
      ]
     },
     "execution_count": 10,
     "metadata": {},
     "output_type": "execute_result"
    }
   ],
   "source": [
    "data[\"Q2: GENDER\"].isna().sum()"
   ]
  },
  {
   "cell_type": "code",
   "execution_count": 11,
   "metadata": {},
   "outputs": [
    {
     "data": {
      "text/plain": [
       "Male                  1467\n",
       "Female                 839\n",
       "I'd rather not say     124\n",
       "Other                   30\n",
       "Name: Q2: GENDER, dtype: int64"
      ]
     },
     "execution_count": 11,
     "metadata": {},
     "output_type": "execute_result"
    }
   ],
   "source": [
    "data[\"Q2: GENDER\"].fillna(\"I'd rather not say\" , inplace = True)\n",
    "data[\"Q2: GENDER\"].value_counts()"
   ]
  },
  {
   "cell_type": "markdown",
   "metadata": {},
   "source": [
    "# Age"
   ]
  },
  {
   "cell_type": "code",
   "execution_count": 12,
   "metadata": {},
   "outputs": [
    {
     "data": {
      "text/plain": [
       "40                                                  92\n",
       "34                                                  90\n",
       "37                                                  89\n",
       "43                                                  86\n",
       "42                                                  79\n",
       "36                                                  79\n",
       "35                                                  77\n",
       "44                                                  76\n",
       "38                                                  76\n",
       "33                                                  75\n",
       "45                                                  75\n",
       "41                                                  74\n",
       "50                                                  71\n",
       "39                                                  69\n",
       "49                                                  69\n",
       "32                                                  68\n",
       "48                                                  64\n",
       "47                                                  63\n",
       "30                                                  62\n",
       "53                                                  57\n",
       "46                                                  55\n",
       "52                                                  50\n",
       "56                                                  46\n",
       "27                                                  45\n",
       "31                                                  45\n",
       "51                                                  41\n",
       "28                                                  37\n",
       "54                                                  36\n",
       "58                                                  34\n",
       "55                                                  32\n",
       "60                                                  31\n",
       "29                                                  27\n",
       "57                                                  25\n",
       "59                                                  24\n",
       "26                                                  23\n",
       "62                                                  20\n",
       "61                                                  20\n",
       "63                                                  20\n",
       "25                                                  19\n",
       "64                                                  17\n",
       "24                                                  16\n",
       "21                                                  14\n",
       "65                                                  13\n",
       "20                                                  12\n",
       "22                                                  11\n",
       "18                                                  10\n",
       "66                                                   9\n",
       "23                                                   9\n",
       "12                                                   9\n",
       "68                                                   8\n",
       "70                                                   8\n",
       "15                                                   8\n",
       "11                                                   7\n",
       "13                                                   6\n",
       "72                                                   6\n",
       "71                                                   6\n",
       "67                                                   6\n",
       "17                                                   5\n",
       "69                                                   5\n",
       "9                                                    4\n",
       "73                                                   4\n",
       "16                                                   4\n",
       "10                                                   3\n",
       "19                                                   3\n",
       "75                                                   3\n",
       "8                                                    2\n",
       "14                                                   2\n",
       "100                                                  2\n",
       "90                                                   2\n",
       "76                                                   2\n",
       "7                                                    2\n",
       "6                                                    2\n",
       "old                                                  2\n",
       "Enough                                               1\n",
       "OLD                                                  1\n",
       "Many                                                 1\n",
       "99                                                   1\n",
       "no                                                   1\n",
       "1                                                    1\n",
       "See question 2                                       1\n",
       "ancient                                              1\n",
       "1000                                                 1\n",
       "46 Halloweens.                                       1\n",
       "70 1/2                                               1\n",
       "MY NAME JEFF                                         1\n",
       "59 on the day after Halloween                        1\n",
       "5u                                                   1\n",
       "88                                                   1\n",
       "older than dirt                                      1\n",
       "sixty-nine                                           1\n",
       "old enough                                           1\n",
       "60+                                                  1\n",
       "24-50                                                1\n",
       "Over 50                                              1\n",
       "39.4                                                 1\n",
       "312                                                  1\n",
       "102                                                  1\n",
       "4                                                    1\n",
       "77                                                   1\n",
       "your mom                                             1\n",
       "I can remember when Java was a cool new language     1\n",
       "74                                                   1\n",
       "hahahahaha                                           1\n",
       "?                                                    1\n",
       "45-55                                                1\n",
       "Old enough                                           1\n",
       "Name: Q3: AGE, dtype: int64"
      ]
     },
     "execution_count": 12,
     "metadata": {},
     "output_type": "execute_result"
    }
   ],
   "source": [
    "data[\"Q3: AGE\"].value_counts()"
   ]
  },
  {
   "cell_type": "code",
   "execution_count": 13,
   "metadata": {
    "scrolled": true
   },
   "outputs": [
    {
     "data": {
      "text/plain": [
       "array([nan, '44', '49', '40', '23', '53', '33', '43', '56', '64', '37',\n",
       "       '59', '48', '54', '36', '45', '25', '34', '35', '38', '58', '50',\n",
       "       '47', '16', '52', '63', '65', '41', '27', '31', '61', '46', '42',\n",
       "       '62', '29', '39', '32', '28', '69', '67', '30', '22', '26', '51',\n",
       "       '70', '24', '18', '19', 'Old enough', '57', '60', '66', '12',\n",
       "       'Many', '55', '72', '?', '21', '11', 'no', '9', '68', '20', '6',\n",
       "       '10', '71', '90', '13', '45-55', '312', '99', '7', 'hahahahaha',\n",
       "       '88', '39.4', '74', '102', 'older than dirt', '17', '15', '8',\n",
       "       '75', '5u', 'Enough', 'See question 2', '24-50', '14', 'Over 50',\n",
       "       '100', '76', '1000', 'sixty-nine', '46 Halloweens.', 'ancient',\n",
       "       '77', 'OLD', 'old', '73', '70 1/2', '1', 'MY NAME JEFF', '4',\n",
       "       '59 on the day after Halloween', 'old enough', 'your mom',\n",
       "       'I can remember when Java was a cool new language', '60+'],\n",
       "      dtype=object)"
      ]
     },
     "execution_count": 13,
     "metadata": {},
     "output_type": "execute_result"
    }
   ],
   "source": [
    "data[\"Q3: AGE\"].unique()"
   ]
  },
  {
   "cell_type": "code",
   "execution_count": 14,
   "metadata": {},
   "outputs": [],
   "source": [
    "age_drops = {'Old enough','45-55','24-50','?','no','Many','hahahahaha','older than dirt','Enough','See question 2','old','ancient','old enough','5u','46 Halloweens.','sixty-nine','Over 50','OLD','MY NAME JEFF','59 on the day after Halloween','your mom','I can remember when Java was a cool new language', '60+', '1000', '70 1/2', '1', '4','312'}\n",
    "for x in age_drops:\n",
    "    data['Q3: AGE'].replace(x , np.nan,inplace=True)"
   ]
  },
  {
   "cell_type": "code",
   "execution_count": 15,
   "metadata": {},
   "outputs": [],
   "source": [
    "age_median = data['Q3: AGE'].median()\n",
    "data['Q3: AGE'].fillna(age_median , inplace = True)"
   ]
  },
  {
   "cell_type": "code",
   "execution_count": 16,
   "metadata": {
    "scrolled": true
   },
   "outputs": [
    {
     "data": {
      "text/plain": [
       "array([41.0, '44', '49', '40', '23', '53', '33', '43', '56', '64', '37',\n",
       "       '59', '48', '54', '36', '45', '25', '34', '35', '38', '58', '50',\n",
       "       '47', '16', '52', '63', '65', '41', '27', '31', '61', '46', '42',\n",
       "       '62', '29', '39', '32', '28', '69', '67', '30', '22', '26', '51',\n",
       "       '70', '24', '18', '19', '57', '60', '66', '12', '55', '72', '21',\n",
       "       '11', '9', '68', '20', '6', '10', '71', '90', '13', '99', '7',\n",
       "       '88', '39.4', '74', '102', '17', '15', '8', '75', '14', '100',\n",
       "       '76', '77', '73'], dtype=object)"
      ]
     },
     "execution_count": 16,
     "metadata": {},
     "output_type": "execute_result"
    }
   ],
   "source": [
    "data[\"Q3: AGE\"].unique()"
   ]
  },
  {
   "cell_type": "code",
   "execution_count": 17,
   "metadata": {},
   "outputs": [],
   "source": [
    "data[\"Q3: AGE\"] = data[\"Q3: AGE\"].astype('float')"
   ]
  },
  {
   "cell_type": "markdown",
   "metadata": {},
   "source": [
    "# Country"
   ]
  },
  {
   "cell_type": "code",
   "execution_count": 18,
   "metadata": {},
   "outputs": [
    {
     "data": {
      "text/plain": [
       "array([nan, 'USA ', 'USA', 'us', 'usa', 'canada', 'Canada', 'Us', 'US',\n",
       "       'Murica', 'United States', 'uk', 'United Kingdom', 'united states',\n",
       "       'Usa', 'United States ', 'United staes',\n",
       "       'United States of America', 'UAE', 'England', 'UK', 'canada ',\n",
       "       'Mexico', 'United states', 'u.s.a.', 'USAUSAUSA', 'america', '35',\n",
       "       'france', 'United States of America ', 'U.S.A.', 'finland',\n",
       "       'unhinged states', 'Canada ', 'united states of america',\n",
       "       'US of A', 'Unites States', 'The United States', 'North Carolina ',\n",
       "       'Unied States', 'Netherlands', 'germany', 'Europe', 'Earth', 'U S',\n",
       "       'u.s.', 'U.K. ', 'Costa Rica', 'The United States of America',\n",
       "       'unite states', 'U.S.', '46', 'cascadia', 'Australia',\n",
       "       'insanity lately', 'Greece', 'USA? Hard to tell anymore..',\n",
       "       \"'merica\", 'usas', 'Pittsburgh', '45', 'United State', '32',\n",
       "       'France', 'australia', 'A', 'Can', 'Canae', 'New York',\n",
       "       'Trumpistan', 'Ireland', 'United Sates', 'Korea', 'California',\n",
       "       'Japan', 'USa', 'South africa',\n",
       "       'I pretend to be from Canada, but I am really from the United States.',\n",
       "       'Usa ', 'Uk', 'Iceland', 'Germany', 'Canada`', 'Scotland', 'UK ',\n",
       "       'Denmark', 'United Stated', 'France ', 'Switzerland',\n",
       "       'Ahem....Amerca', 'UD', 'Scotland ', 'South Korea', 'New Jersey',\n",
       "       'CANADA', 'Indonesia', 'United ststes', 'America',\n",
       "       'The Netherlands', 'United Statss', 'endland', 'Atlantis',\n",
       "       'murrika', 'USA! USA! USA!', 'USAA', 'Alaska', 'united States ',\n",
       "       'soviet canuckistan', 'N. America', 'Singapore', 'USSA', 'China',\n",
       "       'Taiwan', 'Ireland ', 'hong kong', 'spain', 'Sweden', 'Hong Kong',\n",
       "       'U.S. ', 'Narnia', 'u s a', 'United Statea', 'united ststes', '1',\n",
       "       'subscribe to dm4uz3 on youtube', 'United kingdom',\n",
       "       'USA USA USA!!!!', \"I don't know anymore\", 'Fear and Loathing'],\n",
       "      dtype=object)"
      ]
     },
     "execution_count": 18,
     "metadata": {},
     "output_type": "execute_result"
    }
   ],
   "source": [
    "data[\"Q4: COUNTRY\"].unique()"
   ]
  },
  {
   "cell_type": "code",
   "execution_count": 19,
   "metadata": {},
   "outputs": [],
   "source": [
    "data[\"Q4: COUNTRY\"] = data[\"Q4: COUNTRY\"].str.strip()\n",
    "data[\"Q4: COUNTRY\"] = data[\"Q4: COUNTRY\"].str.upper()"
   ]
  },
  {
   "cell_type": "code",
   "execution_count": 20,
   "metadata": {},
   "outputs": [
    {
     "data": {
      "text/plain": [
       "USA                                                                     1130\n",
       "UNITED STATES                                                            592\n",
       "CANADA                                                                   224\n",
       "US                                                                       182\n",
       "UNITED STATES OF AMERICA                                                  73\n",
       "UK                                                                        18\n",
       "UNITED KINGDOM                                                            14\n",
       "U.S.                                                                      12\n",
       "GERMANY                                                                   10\n",
       "U.S.A.                                                                     8\n",
       "AUSTRALIA                                                                  7\n",
       "AMERICA                                                                    6\n",
       "NETHERLANDS                                                                6\n",
       "JAPAN                                                                      5\n",
       "SCOTLAND                                                                   5\n",
       "IRELAND                                                                    4\n",
       "US OF A                                                                    4\n",
       "MEXICO                                                                     4\n",
       "UNITES STATES                                                              4\n",
       "FRANCE                                                                     3\n",
       "SWITZERLAND                                                                3\n",
       "UNITED STATED                                                              2\n",
       "CHINA                                                                      2\n",
       "SWEDEN                                                                     2\n",
       "DENMARK                                                                    2\n",
       "THE UNITED STATES                                                          2\n",
       "HONG KONG                                                                  2\n",
       "UNITED STATE                                                               2\n",
       "UNITED STSTES                                                              2\n",
       "32                                                                         1\n",
       "UNHINGED STATES                                                            1\n",
       "THE UNITED STATES OF AMERICA                                               1\n",
       "CANAE                                                                      1\n",
       "UAE                                                                        1\n",
       "INDONESIA                                                                  1\n",
       "UNITED STATEA                                                              1\n",
       "UNIED STATES                                                               1\n",
       "U.K.                                                                       1\n",
       "USSA                                                                       1\n",
       "TRUMPISTAN                                                                 1\n",
       "EARTH                                                                      1\n",
       "SPAIN                                                                      1\n",
       "A                                                                          1\n",
       "SOVIET CANUCKISTAN                                                         1\n",
       "USAS                                                                       1\n",
       "NEW JERSEY                                                                 1\n",
       "I PRETEND TO BE FROM CANADA, BUT I AM REALLY FROM THE UNITED STATES.       1\n",
       "U S A                                                                      1\n",
       "UNITED STAES                                                               1\n",
       "AHEM....AMERCA                                                             1\n",
       "THE NETHERLANDS                                                            1\n",
       "1                                                                          1\n",
       "PITTSBURGH                                                                 1\n",
       "ATLANTIS                                                                   1\n",
       "I DON'T KNOW ANYMORE                                                       1\n",
       "ENGLAND                                                                    1\n",
       "U S                                                                        1\n",
       "KOREA                                                                      1\n",
       "GREECE                                                                     1\n",
       "USA? HARD TO TELL ANYMORE..                                                1\n",
       "CAN                                                                        1\n",
       "ALASKA                                                                     1\n",
       "INSANITY LATELY                                                            1\n",
       "UNITED SATES                                                               1\n",
       "MURICA                                                                     1\n",
       "FEAR AND LOATHING                                                          1\n",
       "CASCADIA                                                                   1\n",
       "ENDLAND                                                                    1\n",
       "TAIWAN                                                                     1\n",
       "FINLAND                                                                    1\n",
       "CALIFORNIA                                                                 1\n",
       "N. AMERICA                                                                 1\n",
       "UNITED STATSS                                                              1\n",
       "UD                                                                         1\n",
       "SUBSCRIBE TO DM4UZ3 ON YOUTUBE                                             1\n",
       "NEW YORK                                                                   1\n",
       "SOUTH AFRICA                                                               1\n",
       "46                                                                         1\n",
       "ICELAND                                                                    1\n",
       "USA! USA! USA!                                                             1\n",
       "EUROPE                                                                     1\n",
       "45                                                                         1\n",
       "'MERICA                                                                    1\n",
       "NORTH CAROLINA                                                             1\n",
       "MURRIKA                                                                    1\n",
       "USA USA USA!!!!                                                            1\n",
       "SINGAPORE                                                                  1\n",
       "USAUSAUSA                                                                  1\n",
       "UNITE STATES                                                               1\n",
       "COSTA RICA                                                                 1\n",
       "CANADA`                                                                    1\n",
       "35                                                                         1\n",
       "USAA                                                                       1\n",
       "NARNIA                                                                     1\n",
       "SOUTH KOREA                                                                1\n",
       "Name: Q4: COUNTRY, dtype: int64"
      ]
     },
     "execution_count": 20,
     "metadata": {},
     "output_type": "execute_result"
    }
   ],
   "source": [
    "data[\"Q4: COUNTRY\"].value_counts()"
   ]
  },
  {
   "cell_type": "code",
   "execution_count": 21,
   "metadata": {},
   "outputs": [],
   "source": [
    "x = []\n",
    "countries = ['USA','CANADA','UK','UAE','ENGLAND','MEXICO','FRANCE','FINLAND','NORTH CAROLINA','NETHERLANDS','GERMANY','TAIWAN' , 'UNITED STATES']\n",
    "for country in countries:\n",
    "    matches = process.extract(country, data['Q4: COUNTRY'], limit = data.shape[0])\n",
    "    for potential_match in matches:\n",
    "        if (potential_match[1] >= 70):\n",
    "            data.loc[data['Q4: COUNTRY'] == potential_match[0],'Q4: COUNTRY'] = country"
   ]
  },
  {
   "cell_type": "code",
   "execution_count": 22,
   "metadata": {},
   "outputs": [],
   "source": [
    "USA_Names = ['UNITED STATES' ,'US OF A' , 'N. AMERICA' ,'MURICA' ,'MURRIKA' ,'USA? HARD TO TELL ANYMORE..' ,'NEW JERSEY' , 'AHEM....AMERCA' , \"'MERICA\" , 'CALIFORNIA' ,'TRUMPISTAN']\n",
    "Non_Country_Names = ['INSANITY LATELY' , '32' , 'EARTH' , '46' , 'FEAR AND LOATHING' ,'NARNIA' , 'SUBSCRIBE TO DM4UZ3 ON YOUTUBE' ,'45' , '1' ,'35','EUROPE' , \"I DON'T KNOW ANYMORE\" , 'SOVIET CANUCKISTAN']\n",
    "\n",
    "for x in USA_Names:\n",
    "    data['Q4: COUNTRY'].replace(x , 'USA',inplace=True)\n",
    "\n",
    "\n",
    "for y in Non_Country_Names:\n",
    "    data['Q4: COUNTRY'].replace(y , np.nan,inplace=True)\n",
    "    \n",
    "data['Q4: COUNTRY'].replace('UNITED KINGDOM' , 'UK',inplace=True)"
   ]
  },
  {
   "cell_type": "code",
   "execution_count": 23,
   "metadata": {
    "scrolled": false
   },
   "outputs": [
    {
     "data": {
      "text/plain": [
       "array([nan, 'USA', 'CANADA', 'UK', 'UAE', 'FINLAND', 'MEXICO', 'AMERICA',\n",
       "       'FRANCE', 'NORTH CAROLINA', 'NETHERLANDS', 'GERMANY', 'COSTA RICA',\n",
       "       'AUSTRALIA', 'GREECE', 'PITTSBURGH', 'NEW YORK', 'KOREA', 'JAPAN',\n",
       "       'SOUTH AFRICA', 'SCOTLAND', 'DENMARK', 'SWITZERLAND', 'UD',\n",
       "       'SOUTH KOREA', 'INDONESIA', 'ATLANTIS', 'ALASKA', 'SINGAPORE',\n",
       "       'CHINA', 'TAIWAN', 'HONG KONG', 'SPAIN', 'SWEDEN'], dtype=object)"
      ]
     },
     "execution_count": 23,
     "metadata": {},
     "output_type": "execute_result"
    }
   ],
   "source": [
    "data[\"Q4: COUNTRY\"].unique()"
   ]
  },
  {
   "cell_type": "markdown",
   "metadata": {},
   "source": [
    "# State"
   ]
  },
  {
   "cell_type": "code",
   "execution_count": 24,
   "metadata": {},
   "outputs": [],
   "source": [
    "data['Q5: STATE, PROVINCE, COUNTY, ETC'] = data['Q5: STATE, PROVINCE, COUNTY, ETC'].str.strip()\n",
    "data['Q5: STATE, PROVINCE, COUNTY, ETC'] = data['Q5: STATE, PROVINCE, COUNTY, ETC'].str.upper()"
   ]
  },
  {
   "cell_type": "code",
   "execution_count": 25,
   "metadata": {
    "scrolled": false
   },
   "outputs": [
    {
     "data": {
      "text/plain": [
       "332"
      ]
     },
     "execution_count": 25,
     "metadata": {},
     "output_type": "execute_result"
    }
   ],
   "source": [
    "len(data['Q5: STATE, PROVINCE, COUNTY, ETC'].unique())"
   ]
  },
  {
   "cell_type": "markdown",
   "metadata": {},
   "source": [
    "# Multiple choices questions"
   ]
  },
  {
   "cell_type": "code",
   "execution_count": 26,
   "metadata": {},
   "outputs": [],
   "source": [
    "for Col_Name in data.loc[:,'Q6 | 100 Grand Bar':'Q12: MEDIA [Science]'] :\n",
    "    data[Col_Name] = data[Col_Name].astype(\"category\")\n",
    "    data[Col_Name].fillna(data[Col_Name].mode()[0], inplace=True)"
   ]
  }
 ],
 "metadata": {
  "kernelspec": {
   "display_name": "Python 3",
   "language": "python",
   "name": "python3"
  },
  "language_info": {
   "codemirror_mode": {
    "name": "ipython",
    "version": 3
   },
   "file_extension": ".py",
   "mimetype": "text/x-python",
   "name": "python",
   "nbconvert_exporter": "python",
   "pygments_lexer": "ipython3",
   "version": "3.8.5"
  }
 },
 "nbformat": 4,
 "nbformat_minor": 4
}
